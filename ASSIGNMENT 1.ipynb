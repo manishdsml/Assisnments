{
 "cells": [
  {
   "cell_type": "markdown",
   "id": "09051d4a",
   "metadata": {},
   "source": [
    "# ASSIGNMENT 1"
   ]
  },
  {
   "cell_type": "code",
   "execution_count": 1,
   "id": "3c74f2f6",
   "metadata": {},
   "outputs": [
    {
     "data": {
      "text/plain": [
       "\"\\nQ1. In the below elements which of them are values or an expression? \\n(eg:- values can be integer or string and expressions will be mathematical operators.)\\n\\n* \\n'hello'\\n-87.8\\n- \\n/ \\n+\\n6\\n\\n\""
      ]
     },
     "execution_count": 1,
     "metadata": {},
     "output_type": "execute_result"
    }
   ],
   "source": [
    "\"\"\"\n",
    "Q1. In the below elements which of them are values or an expression? \n",
    "(eg:- values can be integer or string and expressions will be mathematical operators.)\n",
    "\n",
    "* \n",
    "'hello'\n",
    "-87.8\n",
    "- \n",
    "/ \n",
    "+\n",
    "6\n",
    "\n",
    "\"\"\""
   ]
  },
  {
   "cell_type": "code",
   "execution_count": 2,
   "id": "8e7fb7b9",
   "metadata": {},
   "outputs": [
    {
     "data": {
      "text/plain": [
       "\"Answer 1\\na) * = Expression\\nb) 'hello' = Value\\nc) -87.8 = Value\\nd) - = Expression\\ne) / = Expression\\nf) + = Expression\\ng) 6 = Value\\n\\n\""
      ]
     },
     "execution_count": 2,
     "metadata": {},
     "output_type": "execute_result"
    }
   ],
   "source": [
    "\"\"\"Answer 1\n",
    "a) * = Expression\n",
    "b) 'hello' = Value\n",
    "c) -87.8 = Value\n",
    "d) - = Expression\n",
    "e) / = Expression\n",
    "f) + = Expression\n",
    "g) 6 = Value\n",
    "\n",
    "\"\"\""
   ]
  },
  {
   "cell_type": "code",
   "execution_count": 3,
   "id": "16b53a42",
   "metadata": {},
   "outputs": [
    {
     "data": {
      "text/plain": [
       "'Q2. What is the difference between string and variable? '"
      ]
     },
     "execution_count": 3,
     "metadata": {},
     "output_type": "execute_result"
    }
   ],
   "source": [
    "\"\"\"Q2. What is the difference between string and variable? \"\"\""
   ]
  },
  {
   "cell_type": "code",
   "execution_count": 4,
   "id": "3286d144",
   "metadata": {},
   "outputs": [
    {
     "data": {
      "text/plain": [
       "'Answer 2\\n#STRING:-\\na) A string is an ordered sequence of characters.\\nb) It is always enclosed in single/double quotes.\\nc) It is immutable.\\n\\n#Variable:-\\na) A variable is like a container which is used to store various datasets into the RAM of the system.\\nb) It can be assigned integers, strings, lists, tuples, dictionary, etc.\\nc) Following rules should be followed while naming the variables:\\n   * its name should not be an integer or special characters only.\\n   * its name should not start with integer or special characters (_ can be given).\\n   * its name should not be a reserved keyword.\\n'"
      ]
     },
     "execution_count": 4,
     "metadata": {},
     "output_type": "execute_result"
    }
   ],
   "source": [
    "\"\"\"Answer 2\n",
    "#STRING:-\n",
    "a) A string is an ordered sequence of characters.\n",
    "b) It is always enclosed in single/double quotes.\n",
    "c) It is immutable.\n",
    "\n",
    "#Variable:-\n",
    "a) A variable is like a container which is used to store various datasets into the RAM of the system.\n",
    "b) It can be assigned integers, strings, lists, tuples, dictionary, etc.\n",
    "c) Following rules should be followed while naming the variables:\n",
    "   * its name should not be an integer or special characters only.\n",
    "   * its name should not start with integer or special characters (_ can be given).\n",
    "   * its name should not be a reserved keyword.\n",
    "\"\"\""
   ]
  },
  {
   "cell_type": "code",
   "execution_count": 5,
   "id": "7e2aea22",
   "metadata": {},
   "outputs": [
    {
     "data": {
      "text/plain": [
       "'Q3. Describe three different data types.'"
      ]
     },
     "execution_count": 5,
     "metadata": {},
     "output_type": "execute_result"
    }
   ],
   "source": [
    "\"\"\"Q3. Describe three different data types.\"\"\""
   ]
  },
  {
   "cell_type": "code",
   "execution_count": 6,
   "id": "325a139a",
   "metadata": {},
   "outputs": [
    {
     "data": {
      "text/plain": [
       "'Answer 3\\n1. Numerical data types:-\\n   a) int- comprises of integers.\\n   b) float- comprises of decimal numbers.\\n   c) complex- comprises of imaginary numbers.\\n   \\n2. Boolean data types (bool):-\\n   a) True- when statement is correct.\\n   b) False- when statement is incorrect.\\n   \\n3. Sequence data types:-\\n   a) str- an ordered sequence of characters.\\n   b) list- an ordered collection of datasets which is mutable and enclosed in [].\\n   c) tuple- an ordered collection of datasets which is immutable and enclosed in ().\\n'"
      ]
     },
     "execution_count": 6,
     "metadata": {},
     "output_type": "execute_result"
    }
   ],
   "source": [
    "\"\"\"Answer 3\n",
    "1. Numerical data types:-\n",
    "   a) int- comprises of integers.\n",
    "   b) float- comprises of decimal numbers.\n",
    "   c) complex- comprises of imaginary numbers.\n",
    "   \n",
    "2. Boolean data types (bool):-\n",
    "   a) True- when statement is correct.\n",
    "   b) False- when statement is incorrect.\n",
    "   \n",
    "3. Sequence data types:-\n",
    "   a) str- an ordered sequence of characters.\n",
    "   b) list- an ordered collection of datasets which is mutable and enclosed in [].\n",
    "   c) tuple- an ordered collection of datasets which is immutable and enclosed in ().\n",
    "\"\"\"\n"
   ]
  },
  {
   "cell_type": "code",
   "execution_count": 7,
   "id": "6ef5bc13",
   "metadata": {},
   "outputs": [
    {
     "data": {
      "text/plain": [
       "'Q4. What is an expression made up of? What do all expressions do?'"
      ]
     },
     "execution_count": 7,
     "metadata": {},
     "output_type": "execute_result"
    }
   ],
   "source": [
    "\"\"\"Q4. What is an expression made up of? What do all expressions do?\"\"\""
   ]
  },
  {
   "cell_type": "code",
   "execution_count": 8,
   "id": "981e464f",
   "metadata": {},
   "outputs": [
    {
     "data": {
      "text/plain": [
       "'Answer 4\\n* An expression is a combination of values, variables, operators and functions call.\\n* It produces some value or result after evaluating.\\n'"
      ]
     },
     "execution_count": 8,
     "metadata": {},
     "output_type": "execute_result"
    }
   ],
   "source": [
    "\"\"\"Answer 4\n",
    "* An expression is a combination of values, variables, operators and functions call.\n",
    "* It produces some value or result after evaluating.\n",
    "\"\"\""
   ]
  },
  {
   "cell_type": "code",
   "execution_count": 9,
   "id": "7cc98b46",
   "metadata": {},
   "outputs": [
    {
     "data": {
      "text/plain": [
       "'Q5. This assignment statements, like spam = 10. What is the difference between an expression and a statement?'"
      ]
     },
     "execution_count": 9,
     "metadata": {},
     "output_type": "execute_result"
    }
   ],
   "source": [
    "\"\"\"Q5. This assignment statements, like spam = 10. What is the difference between an expression and a statement?\"\"\""
   ]
  },
  {
   "cell_type": "code",
   "execution_count": 10,
   "id": "2c6a4149",
   "metadata": {},
   "outputs": [
    {
     "data": {
      "text/plain": [
       "'Answer 5\\n*An expression is evaluated for giving some results while,\\na statement is not evaluated for giving some results. \\n'"
      ]
     },
     "execution_count": 10,
     "metadata": {},
     "output_type": "execute_result"
    }
   ],
   "source": [
    "\"\"\"Answer 5\n",
    "*An expression is evaluated for giving some results while,\n",
    "a statement is not evaluated for giving some results. \n",
    "\"\"\""
   ]
  },
  {
   "cell_type": "code",
   "execution_count": 11,
   "id": "a1430d93",
   "metadata": {},
   "outputs": [
    {
     "data": {
      "text/plain": [
       "'Q6. After running the following code, what does the variable bacon contain?\\nbacon = 22\\nbacon + 1\\n'"
      ]
     },
     "execution_count": 11,
     "metadata": {},
     "output_type": "execute_result"
    }
   ],
   "source": [
    "\"\"\"Q6. After running the following code, what does the variable bacon contain?\n",
    "bacon = 22\n",
    "bacon + 1\n",
    "\"\"\""
   ]
  },
  {
   "cell_type": "code",
   "execution_count": 12,
   "id": "f6d664a8",
   "metadata": {},
   "outputs": [
    {
     "data": {
      "text/plain": [
       "23"
      ]
     },
     "execution_count": 12,
     "metadata": {},
     "output_type": "execute_result"
    }
   ],
   "source": [
    "\"\"\"Answer 6\"\"\"\n",
    "bacon = 22\n",
    "bacon + 1"
   ]
  },
  {
   "cell_type": "code",
   "execution_count": 13,
   "id": "56c52fdb",
   "metadata": {},
   "outputs": [
    {
     "data": {
      "text/plain": [
       "\"Q7. What should the values of the following two terms be?\\n'spam' + 'spamspam'\\n'spam' * 3\\n\""
      ]
     },
     "execution_count": 13,
     "metadata": {},
     "output_type": "execute_result"
    }
   ],
   "source": [
    "\"\"\"Q7. What should the values of the following two terms be?\n",
    "'spam' + 'spamspam'\n",
    "'spam' * 3\n",
    "\"\"\""
   ]
  },
  {
   "cell_type": "code",
   "execution_count": 14,
   "id": "c4717402",
   "metadata": {},
   "outputs": [
    {
     "name": "stdout",
     "output_type": "stream",
     "text": [
      "a=  spamspamspam\n",
      "b=  spamspamspam\n"
     ]
    }
   ],
   "source": [
    "\"\"\"Answer 7\"\"\"\n",
    "a= \"spam\" + \"spamspam\"\n",
    "print(\"a= \",a)\n",
    "\n",
    "b= 'spam' * 3\n",
    "print(\"b= \",b)"
   ]
  },
  {
   "cell_type": "code",
   "execution_count": 15,
   "id": "32e27fa6",
   "metadata": {},
   "outputs": [
    {
     "data": {
      "text/plain": [
       "'Q8. Why is eggs a valid variable name while 100 is invalid?'"
      ]
     },
     "execution_count": 15,
     "metadata": {},
     "output_type": "execute_result"
    }
   ],
   "source": [
    "\"\"\"Q8. Why is eggs a valid variable name while 100 is invalid?\"\"\""
   ]
  },
  {
   "cell_type": "code",
   "execution_count": 16,
   "id": "9f66d02b",
   "metadata": {},
   "outputs": [
    {
     "data": {
      "text/plain": [
       "'Answer 8\\nFollowing rules should be followed while naming the variables:\\na) its name should not be an integer or special characters only.\\nb) its name should not start with integer or special characters (_ can be given).\\nc) its name should not be a reserved keyword.\\n\\nTherefore, 100 (an integer) is an invalid variable name.\\n'"
      ]
     },
     "execution_count": 16,
     "metadata": {},
     "output_type": "execute_result"
    }
   ],
   "source": [
    "\"\"\"Answer 8\n",
    "Following rules should be followed while naming the variables:\n",
    "a) its name should not be an integer or special characters only.\n",
    "b) its name should not start with integer or special characters (_ can be given).\n",
    "c) its name should not be a reserved keyword.\n",
    "\n",
    "Therefore, 100 (an integer) is an invalid variable name.\n",
    "\"\"\""
   ]
  },
  {
   "cell_type": "code",
   "execution_count": 17,
   "id": "1d58671c",
   "metadata": {},
   "outputs": [
    {
     "data": {
      "text/plain": [
       "'Q9. What three functions can be used to get the integer, floating-point number, or string version of a value?'"
      ]
     },
     "execution_count": 17,
     "metadata": {},
     "output_type": "execute_result"
    }
   ],
   "source": [
    "\"\"\"Q9. What three functions can be used to get the integer, floating-point number, or string version of a value?\"\"\""
   ]
  },
  {
   "cell_type": "code",
   "execution_count": 18,
   "id": "85b93a51",
   "metadata": {},
   "outputs": [
    {
     "name": "stdout",
     "output_type": "stream",
     "text": [
      "integer value is 3456\n",
      "float value is 3456.864\n",
      "string value is 3456.864\n"
     ]
    }
   ],
   "source": [
    "\"\"\"Answer 9\"\"\"\n",
    "a=3456.864\n",
    "\n",
    "b=int(a)\n",
    "print(\"integer value is\", b)\n",
    "\n",
    "c=float(a)\n",
    "print(\"float value is\", c)\n",
    "\n",
    "d=str(a)\n",
    "print(\"string value is\", d)"
   ]
  },
  {
   "cell_type": "code",
   "execution_count": 19,
   "id": "b23a60b5",
   "metadata": {},
   "outputs": [
    {
     "data": {
      "text/plain": [
       "\"Q10. Why does this expression cause an error? How can you fix it?\\n'I have eaten ' + 99 + ' burritos.'\\n\""
      ]
     },
     "execution_count": 19,
     "metadata": {},
     "output_type": "execute_result"
    }
   ],
   "source": [
    "\"\"\"Q10. Why does this expression cause an error? How can you fix it?\n",
    "'I have eaten ' + 99 + ' burritos.'\n",
    "\"\"\""
   ]
  },
  {
   "cell_type": "code",
   "execution_count": 20,
   "id": "24169e6d",
   "metadata": {},
   "outputs": [
    {
     "data": {
      "text/plain": [
       "'I have eaten 99 burritos.'"
      ]
     },
     "execution_count": 20,
     "metadata": {},
     "output_type": "execute_result"
    }
   ],
   "source": [
    "\"\"\"Answer 10\n",
    "* The above expression will give error because addition operation can be performed in between same data types only.\n",
    "* Here, it is adding strings and integer.\n",
    "* To resolve this error, integer should be typecasted into string as shown below.\n",
    "\"\"\"\n",
    "'I have eaten ' + str(99) + ' burritos.'"
   ]
  }
 ],
 "metadata": {
  "kernelspec": {
   "display_name": "Python 3 (ipykernel)",
   "language": "python",
   "name": "python3"
  },
  "language_info": {
   "codemirror_mode": {
    "name": "ipython",
    "version": 3
   },
   "file_extension": ".py",
   "mimetype": "text/x-python",
   "name": "python",
   "nbconvert_exporter": "python",
   "pygments_lexer": "ipython3",
   "version": "3.10.9"
  }
 },
 "nbformat": 4,
 "nbformat_minor": 5
}
