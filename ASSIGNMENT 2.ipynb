{
 "cells": [
  {
   "cell_type": "markdown",
   "id": "b506b370",
   "metadata": {},
   "source": [
    "# ASSIGNMENT 2"
   ]
  },
  {
   "cell_type": "code",
   "execution_count": 1,
   "id": "34cb3169",
   "metadata": {},
   "outputs": [
    {
     "data": {
      "text/plain": [
       "'Q1. What are the two values of the Boolean data type? How do you write them?'"
      ]
     },
     "execution_count": 1,
     "metadata": {},
     "output_type": "execute_result"
    }
   ],
   "source": [
    "\"\"\"Q1. What are the two values of the Boolean data type? How do you write them?\"\"\""
   ]
  },
  {
   "cell_type": "code",
   "execution_count": 2,
   "id": "aaac34bc",
   "metadata": {},
   "outputs": [],
   "source": [
    "\"\"\"Answer 1\n",
    "There are two vaues of boolean data type, namely True and False and are written as given below:\"\"\"\n",
    "a= True    # i.e. 1\n",
    "b= False   # i.e. 0"
   ]
  },
  {
   "cell_type": "code",
   "execution_count": 3,
   "id": "8bf3d245",
   "metadata": {},
   "outputs": [
    {
     "data": {
      "text/plain": [
       "'Q2. What are the three different types of Boolean operators?'"
      ]
     },
     "execution_count": 3,
     "metadata": {},
     "output_type": "execute_result"
    }
   ],
   "source": [
    "\"\"\"Q2. What are the three different types of Boolean operators?\"\"\""
   ]
  },
  {
   "cell_type": "code",
   "execution_count": 4,
   "id": "a43df9cb",
   "metadata": {},
   "outputs": [
    {
     "data": {
      "text/plain": [
       "\"Answer 2\\nDifferent types of Boolean operators are:\\n1. and (Gives 'True' when both statements are 'True', otherwise 'False')\\n2. or  (Gives 'True' when either of the statements is 'True', otherwise 'False')\\n3. not (Gives opposite of statement)\\n\""
      ]
     },
     "execution_count": 4,
     "metadata": {},
     "output_type": "execute_result"
    }
   ],
   "source": [
    "\"\"\"Answer 2\n",
    "Different types of Boolean operators are:\n",
    "1. and (Gives 'True' when both statements are 'True', otherwise 'False')\n",
    "2. or  (Gives 'True' when either of the statements is 'True', otherwise 'False')\n",
    "3. not (Gives opposite of statement)\n",
    "\"\"\""
   ]
  },
  {
   "cell_type": "code",
   "execution_count": 5,
   "id": "b21f146c",
   "metadata": {},
   "outputs": [
    {
     "data": {
      "text/plain": [
       "\"Q3. Make a list of each Boolean operator's truth tables \\n      (i.e. every possible combination of Boolean values for the operator and what it evaluate ).\""
      ]
     },
     "execution_count": 5,
     "metadata": {},
     "output_type": "execute_result"
    }
   ],
   "source": [
    "\"\"\"Q3. Make a list of each Boolean operator's truth tables \n",
    "      (i.e. every possible combination of Boolean values for the operator and what it evaluate ).\"\"\""
   ]
  },
  {
   "cell_type": "code",
   "execution_count": 6,
   "id": "7229fbf2",
   "metadata": {},
   "outputs": [
    {
     "data": {
      "text/plain": [
       "'Answer 3\\n1. AND Operator:\\n   Statement A    Statement B    Output\\n   a) True        True           True\\n   b) True        False          False\\n   c) False       True           False\\n   d) False       False          False\\n   \\n2. OR Operator:\\n   Statement A    Statement B    Output\\n   a) True        True           True\\n   b) True        False          True\\n   c) False       True           True\\n   d) False       False          False\\n   \\n3. NOT Operator:\\n   Statement     Output\\n   a) True       False\\n   b) False      True\\n'"
      ]
     },
     "execution_count": 6,
     "metadata": {},
     "output_type": "execute_result"
    }
   ],
   "source": [
    "\"\"\"Answer 3\n",
    "1. AND Operator:\n",
    "   Statement A    Statement B    Output\n",
    "   a) True        True           True\n",
    "   b) True        False          False\n",
    "   c) False       True           False\n",
    "   d) False       False          False\n",
    "   \n",
    "2. OR Operator:\n",
    "   Statement A    Statement B    Output\n",
    "   a) True        True           True\n",
    "   b) True        False          True\n",
    "   c) False       True           True\n",
    "   d) False       False          False\n",
    "   \n",
    "3. NOT Operator:\n",
    "   Statement     Output\n",
    "   a) True       False\n",
    "   b) False      True\n",
    "\"\"\""
   ]
  },
  {
   "cell_type": "code",
   "execution_count": 7,
   "id": "b41bc6ef",
   "metadata": {},
   "outputs": [
    {
     "data": {
      "text/plain": [
       "'Q.4 What are the values of the following expressions?\\na) (5 > 4) and (3 == 5)\\nb) not (5 > 4)\\nc) (5 > 4) or (3 == 5)\\nd) not ((5 > 4) or (3 == 5))\\ne) (True and True) and (True == False)\\nf) (not False) or (not True)\\n'"
      ]
     },
     "execution_count": 7,
     "metadata": {},
     "output_type": "execute_result"
    }
   ],
   "source": [
    "\"\"\"Q.4 What are the values of the following expressions?\n",
    "a) (5 > 4) and (3 == 5)\n",
    "b) not (5 > 4)\n",
    "c) (5 > 4) or (3 == 5)\n",
    "d) not ((5 > 4) or (3 == 5))\n",
    "e) (True and True) and (True == False)\n",
    "f) (not False) or (not True)\n",
    "\"\"\""
   ]
  },
  {
   "cell_type": "code",
   "execution_count": 8,
   "id": "13587f40",
   "metadata": {},
   "outputs": [
    {
     "name": "stdout",
     "output_type": "stream",
     "text": [
      "Value of a) is False\n",
      "Value of b) is False\n",
      "Value of c) is True\n",
      "Value of d) is False\n",
      "Value of e) is False\n",
      "Value of f) is True\n"
     ]
    }
   ],
   "source": [
    "\"\"\"Answer 4\"\"\"\n",
    "print(\"Value of a) is\",(5 > 4) and (3 == 5))\n",
    "print(\"Value of b) is\",not (5 > 4))\n",
    "print(\"Value of c) is\",(5 > 4) or (3 == 5))\n",
    "print(\"Value of d) is\",not ((5 > 4) or (3 == 5)))\n",
    "print(\"Value of e) is\",(True and True) and (True == False))\n",
    "print(\"Value of f) is\",(not False) or (not True))"
   ]
  },
  {
   "cell_type": "code",
   "execution_count": 9,
   "id": "6df77c3c",
   "metadata": {},
   "outputs": [
    {
     "data": {
      "text/plain": [
       "'Q5. What are the six comparison operators?'"
      ]
     },
     "execution_count": 9,
     "metadata": {},
     "output_type": "execute_result"
    }
   ],
   "source": [
    "\"\"\"Q5. What are the six comparison operators?\"\"\""
   ]
  },
  {
   "cell_type": "code",
   "execution_count": 10,
   "id": "bffec493",
   "metadata": {},
   "outputs": [
    {
     "data": {
      "text/plain": [
       "'Answer 5\\n1. ==  equal to\\n2. <   less than\\n3. >   greater then\\n4. <=  less than or equal to\\n5. >=  greater than or equal to\\n6. !=  not equal to\\n'"
      ]
     },
     "execution_count": 10,
     "metadata": {},
     "output_type": "execute_result"
    }
   ],
   "source": [
    "\"\"\"Answer 5\n",
    "1. ==  equal to\n",
    "2. <   less than\n",
    "3. >   greater then\n",
    "4. <=  less than or equal to\n",
    "5. >=  greater than or equal to\n",
    "6. !=  not equal to\n",
    "\"\"\""
   ]
  },
  {
   "cell_type": "code",
   "execution_count": 11,
   "id": "7f7991af",
   "metadata": {},
   "outputs": [
    {
     "data": {
      "text/plain": [
       "'Q.6 How do you tell the difference between the equal to and assignment operators?\\nDescribe a condition and when you would use one.'"
      ]
     },
     "execution_count": 11,
     "metadata": {},
     "output_type": "execute_result"
    }
   ],
   "source": [
    "\"\"\"Q.6 How do you tell the difference between the equal to and assignment operators?\n",
    "Describe a condition and when you would use one.\"\"\""
   ]
  },
  {
   "cell_type": "code",
   "execution_count": 12,
   "id": "73cfb002",
   "metadata": {},
   "outputs": [
    {
     "name": "stdout",
     "output_type": "stream",
     "text": [
      "False\n",
      "manish\n"
     ]
    }
   ],
   "source": [
    "\"\"\"Answer 6\n",
    "There are mainly two differences:\n",
    "1. Notation- wise, 'equal to' is shown by '==' and 'assignment operator' by '='.\n",
    "2. '==' is used to compare the LHS and RHS, if both are equal, then gives 'True', otherwise 'False'.\n",
    "   '=' is use to assign some value to a varialble.\n",
    "\"\"\"\n",
    "print(14==69) #comparing whether both integers are equal or not\n",
    "\n",
    "a=\"manish\"\n",
    "print(a) #assigned a string to variable 'a'\n"
   ]
  },
  {
   "cell_type": "code",
   "execution_count": 13,
   "id": "5d8273fe",
   "metadata": {},
   "outputs": [
    {
     "data": {
      "text/plain": [
       "\"Q.7 Identify the three blocks in this code:\\nspam = 0\\nif spam == 10:\\nprint('eggs')\\nif spam > 5:\\nprint('bacon')\\nelse:\\nprint('ham')\\nprint('spam')\\nprint('spam')\\n\""
      ]
     },
     "execution_count": 13,
     "metadata": {},
     "output_type": "execute_result"
    }
   ],
   "source": [
    "\"\"\"Q.7 Identify the three blocks in this code:\n",
    "spam = 0\n",
    "if spam == 10:\n",
    "print('eggs')\n",
    "if spam > 5:\n",
    "print('bacon')\n",
    "else:\n",
    "print('ham')\n",
    "print('spam')\n",
    "print('spam')\n",
    "\"\"\""
   ]
  },
  {
   "cell_type": "code",
   "execution_count": 14,
   "id": "1e2b5d8c",
   "metadata": {},
   "outputs": [
    {
     "name": "stdout",
     "output_type": "stream",
     "text": [
      "ham\n",
      "spam\n",
      "spam\n"
     ]
    }
   ],
   "source": [
    "\"\"\"Answer 7\"\"\"\n",
    "spam = 0\n",
    "if spam == 10:     #1st block: consisting of if statement\n",
    "    print('eggs')\n",
    "    \n",
    "    \n",
    "if spam > 5:       #2nd block: consisting of if-else statement\n",
    "    print('bacon')\n",
    "else:\n",
    "    print('ham')\n",
    "    \n",
    "    \n",
    "print('spam')     #3rd block: consisting of two print statements\n",
    "print('spam')"
   ]
  },
  {
   "cell_type": "code",
   "execution_count": 15,
   "id": "61e3f08b",
   "metadata": {},
   "outputs": [
    {
     "data": {
      "text/plain": [
       "'Q.8 Write code that prints Hello if 1 is stored in spam, \\nprints Howdy if 2 is stored in spam, and \\nprints Greetings! if anything else is stored in spam.'"
      ]
     },
     "execution_count": 15,
     "metadata": {},
     "output_type": "execute_result"
    }
   ],
   "source": [
    "\"\"\"Q.8 Write code that prints Hello if 1 is stored in spam, \n",
    "prints Howdy if 2 is stored in spam, and \n",
    "prints Greetings! if anything else is stored in spam.\"\"\""
   ]
  },
  {
   "cell_type": "code",
   "execution_count": 16,
   "id": "eaeb24da",
   "metadata": {},
   "outputs": [
    {
     "name": "stdout",
     "output_type": "stream",
     "text": [
      "enter a no__234\n",
      "Greetings!\n"
     ]
    }
   ],
   "source": [
    "\"\"\"Answer 8\"\"\"\n",
    "spam= float(input(\"enter a no__\"))\n",
    "if spam == 1:\n",
    "    print(\"Hello\")\n",
    "elif spam == 2:\n",
    "    print(\"Howdy\")\n",
    "else:\n",
    "    print(\"Greetings!\")"
   ]
  },
  {
   "cell_type": "code",
   "execution_count": 17,
   "id": "9316571e",
   "metadata": {},
   "outputs": [
    {
     "data": {
      "text/plain": [
       "'Q.9 If your programme is stuck in an endless loop, what keys you’ll press?'"
      ]
     },
     "execution_count": 17,
     "metadata": {},
     "output_type": "execute_result"
    }
   ],
   "source": [
    "\"\"\"Q.9 If your programme is stuck in an endless loop, what keys you’ll press?\"\"\""
   ]
  },
  {
   "cell_type": "code",
   "execution_count": 18,
   "id": "3f94be97",
   "metadata": {},
   "outputs": [
    {
     "data": {
      "text/plain": [
       "\"Answer 9\\nIf a programme is stuck in an endless loop, then 'Ctrl + C' can be used to stop the infinite loop.\\n\""
      ]
     },
     "execution_count": 18,
     "metadata": {},
     "output_type": "execute_result"
    }
   ],
   "source": [
    "\"\"\"Answer 9\n",
    "If a programme is stuck in an endless loop, then 'Ctrl + C' can be used to stop the infinite loop.\n",
    "\"\"\""
   ]
  },
  {
   "cell_type": "code",
   "execution_count": 19,
   "id": "cc8b0000",
   "metadata": {},
   "outputs": [
    {
     "data": {
      "text/plain": [
       "'Q.10 How can you tell the difference between break and continue?'"
      ]
     },
     "execution_count": 19,
     "metadata": {},
     "output_type": "execute_result"
    }
   ],
   "source": [
    "\"\"\"Q.10 How can you tell the difference between break and continue?\"\"\""
   ]
  },
  {
   "cell_type": "code",
   "execution_count": 20,
   "id": "cbed59e3",
   "metadata": {},
   "outputs": [
    {
     "name": "stdout",
     "output_type": "stream",
     "text": [
      "g\n",
      "o\n",
      "t\n",
      "h\n",
      "--------------------------------------------------------\n",
      "g\n",
      "o\n",
      "t\n",
      "h\n",
      "a\n",
      "l\n"
     ]
    }
   ],
   "source": [
    "\"\"\"Answer 10\"\"\"\n",
    "# 'break' statement is used to terminate the loop when the specified condition above the 'break statement become True. For e.g.\n",
    "a= \"gothwal\"\n",
    "for i in a:\n",
    "    if i==\"w\":\n",
    "        break\n",
    "    print(i)\n",
    "print(\"--------------------------------------------------------\")\n",
    "\n",
    "# 'continue' statement is used to skip the remaining lines of code written after it.\n",
    "# It skips the current iteration and then continue the loop with next iteration. For e.g.\n",
    "b= \"gothwal\"\n",
    "for i in b:\n",
    "    if i==\"w\":\n",
    "        continue\n",
    "    print(i)"
   ]
  },
  {
   "cell_type": "code",
   "execution_count": 21,
   "id": "2cbb6f28",
   "metadata": {},
   "outputs": [
    {
     "data": {
      "text/plain": [
       "'Q.11 In a for loop, what is the difference between range(10), range(0, 10), and range(0, 10, 1)?'"
      ]
     },
     "execution_count": 21,
     "metadata": {},
     "output_type": "execute_result"
    }
   ],
   "source": [
    "\"\"\"Q.11 In a for loop, what is the difference between range(10), range(0, 10), and range(0, 10, 1)?\"\"\""
   ]
  },
  {
   "cell_type": "code",
   "execution_count": 22,
   "id": "dfa6b830",
   "metadata": {},
   "outputs": [
    {
     "name": "stdout",
     "output_type": "stream",
     "text": [
      "0\n",
      "1\n",
      "2\n",
      "3\n",
      "4\n",
      "5\n",
      "6\n",
      "7\n",
      "8\n",
      "9\n",
      "--------------------------------------------------------\n",
      "0\n",
      "1\n",
      "2\n",
      "3\n",
      "4\n",
      "5\n",
      "6\n",
      "7\n",
      "8\n",
      "9\n",
      "--------------------------------------------------------\n",
      "0\n",
      "1\n",
      "2\n",
      "3\n",
      "4\n",
      "5\n",
      "6\n",
      "7\n",
      "8\n",
      "9\n"
     ]
    }
   ],
   "source": [
    "\"\"\"Answer 11\n",
    "There is basically no difference between these range functions, just notation-wise they differs from each other.\n",
    "All of them will generate data from 0 to 9.\n",
    "\"\"\"\n",
    "for i in range(10):\n",
    "    print(i)\n",
    "print(\"--------------------------------------------------------\")    \n",
    "for i in range(0,10):\n",
    "    print(i)\n",
    "print(\"--------------------------------------------------------\")    \n",
    "for i in range(0,10,1):\n",
    "    print(i)"
   ]
  },
  {
   "cell_type": "code",
   "execution_count": 23,
   "id": "3dd9ec7c",
   "metadata": {},
   "outputs": [
    {
     "data": {
      "text/plain": [
       "'Q.12 Write a short program that prints the numbers 1 to 10 using a for loop. \\nThen write an equivalent program that prints the numbers 1 to 10 using a while loop.'"
      ]
     },
     "execution_count": 23,
     "metadata": {},
     "output_type": "execute_result"
    }
   ],
   "source": [
    "\"\"\"Q.12 Write a short program that prints the numbers 1 to 10 using a for loop. \n",
    "Then write an equivalent program that prints the numbers 1 to 10 using a while loop.\"\"\""
   ]
  },
  {
   "cell_type": "code",
   "execution_count": 24,
   "id": "bf6f26bd",
   "metadata": {},
   "outputs": [
    {
     "name": "stdout",
     "output_type": "stream",
     "text": [
      "1\n",
      "2\n",
      "3\n",
      "4\n",
      "5\n",
      "6\n",
      "7\n",
      "8\n",
      "9\n",
      "10\n",
      "--------------------------------------------------------\n",
      "1\n",
      "2\n",
      "3\n",
      "4\n",
      "5\n",
      "6\n",
      "7\n",
      "8\n",
      "9\n",
      "10\n"
     ]
    }
   ],
   "source": [
    "\"\"\"Answer 12\"\"\"\n",
    "for i in range(1,11):    #using For-loop\n",
    "    print(i)\n",
    "print(\"--------------------------------------------------------\")  \n",
    "a=1         #using While-loop\n",
    "while a<=10:\n",
    "    print(a)\n",
    "    a+=1"
   ]
  },
  {
   "cell_type": "code",
   "execution_count": 25,
   "id": "3b2b5ea0",
   "metadata": {},
   "outputs": [
    {
     "data": {
      "text/plain": [
       "'Q.13 If you had a function named bacon() inside a module named spam, how would you call it after importing spam?'"
      ]
     },
     "execution_count": 25,
     "metadata": {},
     "output_type": "execute_result"
    }
   ],
   "source": [
    "\"\"\"Q.13 If you had a function named bacon() inside a module named spam, how would you call it after importing spam?\"\"\""
   ]
  },
  {
   "cell_type": "code",
   "execution_count": 26,
   "id": "8c60d59c",
   "metadata": {},
   "outputs": [
    {
     "data": {
      "text/plain": [
       "\"Answer 13\\nFirst of all, 'import' spam and then execute\\nspam.bacon()\\n\""
      ]
     },
     "execution_count": 26,
     "metadata": {},
     "output_type": "execute_result"
    }
   ],
   "source": [
    "\"\"\"Answer 13\n",
    "First of all, 'import' spam and then execute\n",
    "spam.bacon()\n",
    "\"\"\""
   ]
  },
  {
   "cell_type": "code",
   "execution_count": null,
   "id": "d0617be0",
   "metadata": {},
   "outputs": [],
   "source": []
  }
 ],
 "metadata": {
  "kernelspec": {
   "display_name": "Python 3 (ipykernel)",
   "language": "python",
   "name": "python3"
  },
  "language_info": {
   "codemirror_mode": {
    "name": "ipython",
    "version": 3
   },
   "file_extension": ".py",
   "mimetype": "text/x-python",
   "name": "python",
   "nbconvert_exporter": "python",
   "pygments_lexer": "ipython3",
   "version": "3.10.9"
  }
 },
 "nbformat": 4,
 "nbformat_minor": 5
}
